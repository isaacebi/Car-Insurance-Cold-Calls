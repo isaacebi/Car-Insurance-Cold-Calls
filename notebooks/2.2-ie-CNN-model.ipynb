{
 "cells": [
  {
   "cell_type": "code",
   "execution_count": 18,
   "id": "f77c5f7a",
   "metadata": {},
   "outputs": [],
   "source": [
    "# Libraries\n",
    "import os\n",
    "import sys\n",
    "import pickle\n",
    "import datetime\n",
    "import numpy as np\n",
    "import pandas as pd\n",
    "import seaborn as sns\n",
    "import matplotlib.pyplot as plt\n",
    "\n",
    "from sklearn.metrics import accuracy_score\n",
    "from sklearn.pipeline import make_pipeline\n",
    "from sklearn.compose import ColumnTransformer\n",
    "from sklearn.model_selection import cross_val_score\n",
    "from sklearn.preprocessing import StandardScaler, OrdinalEncoder\n",
    "from sklearn.model_selection import train_test_split, GridSearchCV\n",
    "from sklearn.feature_selection import SelectPercentile, f_classif, chi2\n",
    "\n",
    "import tensorflow as tf\n",
    "from tensorflow.keras import Input\n",
    "from tensorflow.keras.models import Sequential\n",
    "from tensorflow.keras.callbacks import EarlyStopping, TensorBoard\n",
    "from tensorflow.keras.wrappers.scikit_learn import KerasClassifier\n",
    "from tensorflow.keras.layers import Dense, Dropout, BatchNormalization, Conv1D, Reshape, Flatten"
   ]
  },
  {
   "cell_type": "code",
   "execution_count": 19,
   "id": "8d56aebb",
   "metadata": {},
   "outputs": [],
   "source": [
    "CURRENT_DIR = os.getcwd()\n",
    "PROJECT_DIR = os.path.dirname(CURRENT_DIR)\n",
    "MODELS_PATH = os.path.join(PROJECT_DIR, 'models')\n",
    "ENCODER_PATH = os.path.join(MODELS_PATH, 'encoders')\n",
    "PIPELINES_PATH = os.path.join(MODELS_PATH, 'pipelines')\n",
    "LOGS_PATH = os.path.join(MODELS_PATH, 'logs')\n",
    "LOG_CURRENT = os.path.join(LOGS_PATH, datetime.datetime.now().strftime(\"%Y%m%d-%H%M%S\"))\n",
    "TEST_DATA_PATH = os.path.join(PROJECT_DIR, \n",
    "                              'data', 'raw', 'carInsurance_train.csv')\n",
    "\n",
    "CATEG_PATH = os.path.join(PROJECT_DIR, 'references', 'categorical_columns.txt')\n",
    "CONTI_PATH = os.path.join(PROJECT_DIR, 'references', 'continous_columns.txt')\n",
    "\n",
    "DATA_PIPELINE_V1 = os.path.join(PIPELINES_PATH, 'data-pipeline-v1.0')\n",
    "MODEL_PATH = os.path.join(MODELS_PATH, 'CNN-v1.0.h5')"
   ]
  },
  {
   "cell_type": "code",
   "execution_count": 20,
   "id": "74a14e88",
   "metadata": {},
   "outputs": [],
   "source": [
    "# adding system path\n",
    "sys.path.insert(0, PROJECT_DIR)"
   ]
  },
  {
   "cell_type": "code",
   "execution_count": 21,
   "id": "68e907bc",
   "metadata": {},
   "outputs": [],
   "source": [
    "# import internal function\n",
    "from src.data import process_pipeline, encoder_pipeline, feature_selection_pipeline"
   ]
  },
  {
   "cell_type": "code",
   "execution_count": 22,
   "id": "e75bad6a",
   "metadata": {},
   "outputs": [],
   "source": [
    "# %% Helper Function\n",
    "def get_content(txt_file):\n",
    "    contents = []\n",
    "    with open(txt_file) as file:\n",
    "        for line in file:\n",
    "            contents.append(line.strip())\n",
    "            \n",
    "    return contents\n",
    "\n",
    "# Function to save a trained model\n",
    "def save_model(model, model_name, folderPath):\n",
    "    filename = os.path.join(folderPath, f\"{model_name}.pkl\")\n",
    "    with open(filename, 'wb') as file:\n",
    "        pickle.dump(model, file)\n",
    "\n",
    "# Function to load a saved model\n",
    "def load_model(model_name):\n",
    "    filename = f\"{model_name}.pkl\"\n",
    "    if os.path.exists(filename):\n",
    "        with open(filename, 'rb') as file:\n",
    "            return pickle.load(file)\n",
    "    else:\n",
    "        return None\n",
    "\n",
    "# Function to evaluate a model\n",
    "def evaluate_model(model, model_name, X_test, y_test):\n",
    "    y_pred = model.predict(X_test)\n",
    "    accuracy = accuracy_score(y_test, y_pred.astype('int'))\n",
    "    print(f\"{model_name} - Test Accuracy: {accuracy:.4f}\")\n",
    "    return accuracy\n",
    "\n",
    "# call backs\n",
    "def callbacks(LOGS_PATH, patience):\n",
    "    tensorboard_callbacks = TensorBoard(log_dir=LOGS_PATH, histogram_freq=1)\n",
    "    early_callback = EarlyStopping(monitor='accuracy', patience=patience)\n",
    "    return [early_callback, tensorboard_callbacks]"
   ]
  },
  {
   "cell_type": "code",
   "execution_count": 23,
   "id": "557da9fb",
   "metadata": {
    "scrolled": true
   },
   "outputs": [],
   "source": [
    "df = pd.read_csv(TEST_DATA_PATH)\n",
    "df = process_pipeline.process_data(df)"
   ]
  },
  {
   "cell_type": "code",
   "execution_count": 24,
   "id": "b822693a",
   "metadata": {},
   "outputs": [],
   "source": [
    "# Get list of categorical & continous variable\n",
    "categ = get_content(CATEG_PATH)\n",
    "conti = get_content(CONTI_PATH)"
   ]
  },
  {
   "cell_type": "code",
   "execution_count": 25,
   "id": "037816c9",
   "metadata": {},
   "outputs": [],
   "source": [
    "# label\n",
    "X = df.drop(columns=['CarInsurance'])\n",
    "\n",
    "# load previous data pipeline - if none return means something is wrong\n",
    "data_pipeline = load_model(DATA_PIPELINE_V1)\n",
    "X = pd.DataFrame(data_pipeline.transform(X), columns=X.columns.tolist())\n",
    "\n",
    "#target\n",
    "y = df['CarInsurance']\n",
    "\n",
    "# Split the data\n",
    "X_train, X_test, y_train, y_test = train_test_split(X, y, test_size=0.3, random_state=0)"
   ]
  },
  {
   "cell_type": "code",
   "execution_count": 26,
   "id": "f8a8d601",
   "metadata": {},
   "outputs": [],
   "source": [
    "# create a input and output shape\n",
    "input_shape = np.shape(X_train)[1:]\n",
    "model_output = 1 # len(np.unique(y_train, axis=0)) # alternative len(df.target.unique)"
   ]
  },
  {
   "cell_type": "code",
   "execution_count": 27,
   "id": "9ee5b502-0a42-495b-8b91-7cbb9d6fec89",
   "metadata": {},
   "outputs": [
    {
     "data": {
      "text/plain": [
       "(28,)"
      ]
     },
     "execution_count": 27,
     "metadata": {},
     "output_type": "execute_result"
    }
   ],
   "source": [
    "input_shape"
   ]
  },
  {
   "cell_type": "code",
   "execution_count": 28,
   "id": "86b12fec-b1ba-44a8-8faf-a52a4041c8e3",
   "metadata": {},
   "outputs": [],
   "source": [
    "def create_model(input_shape, model_output):\n",
    "    model = Sequential()\n",
    "    # input layer\n",
    "    model.add(Input(shape=input_shape))\n",
    "\n",
    "    # Reshape for Conv1D\n",
    "    model.add(Reshape((input_shape[0], 1)))\n",
    "    \n",
    "    # CNN\n",
    "    model.add(Conv1D(64, kernel_size=2, activation='relu'))\n",
    "    model.add(Conv1D(128, kernel_size=2, activation='relu'))\n",
    "    model.add(Flatten())\n",
    "    model.add(BatchNormalization())\n",
    "    model.add(Dropout(0.5))\n",
    "\n",
    "    # layer 1\n",
    "    model.add(Dense(254, activation='relu'))\n",
    "    model.add(BatchNormalization())\n",
    "    model.add(Dropout(0.5))\n",
    "\n",
    "    # output\n",
    "    model.add(Dense(model_output, activation='sigmoid'))\n",
    "    model.compile(optimizer='adam', \n",
    "                  loss='categorical_crossentropy', \n",
    "                  metrics=['accuracy'],\n",
    "                 )\n",
    "    return model"
   ]
  },
  {
   "cell_type": "code",
   "execution_count": 29,
   "id": "52378c1f-c08c-4a6b-b8ee-28ad1e50817a",
   "metadata": {},
   "outputs": [],
   "source": [
    "# callbacks\n",
    "early_callback, tensorboard_callbacks = callbacks(LOGS_PATH, patience=13)"
   ]
  },
  {
   "cell_type": "code",
   "execution_count": 30,
   "id": "508fd919",
   "metadata": {},
   "outputs": [
    {
     "name": "stdout",
     "output_type": "stream",
     "text": [
      "Epoch 1/25\n"
     ]
    },
    {
     "name": "stdout",
     "output_type": "stream",
     "text": [
      "88/88 [==============================] - 2s 15ms/step - loss: 0.0000e+00 - accuracy: 0.7775 - val_loss: 0.0000e+00 - val_accuracy: 0.8083\n",
      "Epoch 2/25\n",
      "88/88 [==============================] - 1s 10ms/step - loss: 0.0000e+00 - accuracy: 0.8175 - val_loss: 0.0000e+00 - val_accuracy: 0.7817\n",
      "Epoch 3/25\n",
      "88/88 [==============================] - 1s 9ms/step - loss: 0.0000e+00 - accuracy: 0.8289 - val_loss: 0.0000e+00 - val_accuracy: 0.7650\n",
      "Epoch 4/25\n",
      "88/88 [==============================] - 1s 10ms/step - loss: 0.0000e+00 - accuracy: 0.8321 - val_loss: 0.0000e+00 - val_accuracy: 0.8058\n",
      "Epoch 5/25\n",
      "88/88 [==============================] - 1s 9ms/step - loss: 0.0000e+00 - accuracy: 0.8325 - val_loss: 0.0000e+00 - val_accuracy: 0.8083\n",
      "Epoch 6/25\n",
      "88/88 [==============================] - 1s 9ms/step - loss: 0.0000e+00 - accuracy: 0.8325 - val_loss: 0.0000e+00 - val_accuracy: 0.8150\n",
      "Epoch 7/25\n",
      "88/88 [==============================] - 1s 10ms/step - loss: 0.0000e+00 - accuracy: 0.8196 - val_loss: 0.0000e+00 - val_accuracy: 0.8225\n",
      "Epoch 8/25\n",
      "88/88 [==============================] - 1s 9ms/step - loss: 0.0000e+00 - accuracy: 0.8261 - val_loss: 0.0000e+00 - val_accuracy: 0.8133\n",
      "Epoch 9/25\n",
      "88/88 [==============================] - 1s 9ms/step - loss: 0.0000e+00 - accuracy: 0.8346 - val_loss: 0.0000e+00 - val_accuracy: 0.8192\n",
      "Epoch 10/25\n",
      "88/88 [==============================] - 1s 10ms/step - loss: 0.0000e+00 - accuracy: 0.8225 - val_loss: 0.0000e+00 - val_accuracy: 0.8158\n",
      "Epoch 11/25\n",
      "88/88 [==============================] - 1s 9ms/step - loss: 0.0000e+00 - accuracy: 0.8193 - val_loss: 0.0000e+00 - val_accuracy: 0.8308\n",
      "Epoch 12/25\n",
      "88/88 [==============================] - 1s 9ms/step - loss: 0.0000e+00 - accuracy: 0.8268 - val_loss: 0.0000e+00 - val_accuracy: 0.8308\n",
      "Epoch 13/25\n",
      "88/88 [==============================] - 1s 10ms/step - loss: 0.0000e+00 - accuracy: 0.8257 - val_loss: 0.0000e+00 - val_accuracy: 0.8258\n",
      "Epoch 14/25\n",
      "88/88 [==============================] - 1s 9ms/step - loss: 0.0000e+00 - accuracy: 0.8257 - val_loss: 0.0000e+00 - val_accuracy: 0.8217\n",
      "Epoch 15/25\n",
      "88/88 [==============================] - 1s 12ms/step - loss: 0.0000e+00 - accuracy: 0.8243 - val_loss: 0.0000e+00 - val_accuracy: 0.8050\n",
      "Epoch 16/25\n",
      "88/88 [==============================] - 1s 12ms/step - loss: 0.0000e+00 - accuracy: 0.8129 - val_loss: 0.0000e+00 - val_accuracy: 0.8200\n",
      "Epoch 17/25\n",
      "88/88 [==============================] - 1s 10ms/step - loss: 0.0000e+00 - accuracy: 0.8225 - val_loss: 0.0000e+00 - val_accuracy: 0.8308\n",
      "Epoch 18/25\n",
      "88/88 [==============================] - 1s 9ms/step - loss: 0.0000e+00 - accuracy: 0.8200 - val_loss: 0.0000e+00 - val_accuracy: 0.8125\n",
      "Epoch 19/25\n",
      "88/88 [==============================] - 1s 10ms/step - loss: 0.0000e+00 - accuracy: 0.8164 - val_loss: 0.0000e+00 - val_accuracy: 0.8083\n",
      "Epoch 20/25\n",
      "88/88 [==============================] - 1s 9ms/step - loss: 0.0000e+00 - accuracy: 0.8154 - val_loss: 0.0000e+00 - val_accuracy: 0.8183\n",
      "Epoch 21/25\n",
      "88/88 [==============================] - 1s 9ms/step - loss: 0.0000e+00 - accuracy: 0.8146 - val_loss: 0.0000e+00 - val_accuracy: 0.8158\n",
      "Epoch 22/25\n",
      "88/88 [==============================] - 1s 9ms/step - loss: 0.0000e+00 - accuracy: 0.8171 - val_loss: 0.0000e+00 - val_accuracy: 0.8175\n"
     ]
    }
   ],
   "source": [
    "clf = create_model(input_shape, model_output)\n",
    "\n",
    "# model training + gets evaluation\n",
    "hist = clf.fit(\n",
    "    X_train, y_train,\n",
    "    epochs=25,\n",
    "    batch_size=32,\n",
    "    validation_data=(X_test, y_test),\n",
    "    callbacks=[early_callback]\n",
    ")"
   ]
  },
  {
   "cell_type": "code",
   "execution_count": 31,
   "id": "0027c833",
   "metadata": {},
   "outputs": [
    {
     "name": "stdout",
     "output_type": "stream",
     "text": [
      "Model: \"sequential_1\"\n",
      "_________________________________________________________________\n",
      " Layer (type)                Output Shape              Param #   \n",
      "=================================================================\n",
      " reshape_1 (Reshape)         (None, 28, 1)             0         \n",
      "                                                                 \n",
      " conv1d_2 (Conv1D)           (None, 27, 64)            192       \n",
      "                                                                 \n",
      " conv1d_3 (Conv1D)           (None, 26, 128)           16512     \n",
      "                                                                 \n",
      " flatten_1 (Flatten)         (None, 3328)              0         \n",
      "                                                                 \n",
      " batch_normalization_1 (Batc  (None, 3328)             13312     \n",
      " hNormalization)                                                 \n",
      "                                                                 \n",
      " dropout_2 (Dropout)         (None, 3328)              0         \n",
      "                                                                 \n",
      " dense_2 (Dense)             (None, 254)               845566    \n",
      "                                                                 \n",
      " batch_normalization_2 (Batc  (None, 254)              1016      \n",
      " hNormalization)                                                 \n",
      "                                                                 \n",
      " dropout_3 (Dropout)         (None, 254)               0         \n",
      "                                                                 \n",
      " dense_3 (Dense)             (None, 1)                 255       \n",
      "                                                                 \n",
      "=================================================================\n",
      "Total params: 876,853\n",
      "Trainable params: 869,689\n",
      "Non-trainable params: 7,164\n",
      "_________________________________________________________________\n"
     ]
    }
   ],
   "source": [
    "clf.summary()"
   ]
  },
  {
   "cell_type": "code",
   "execution_count": 32,
   "id": "83760228",
   "metadata": {},
   "outputs": [],
   "source": [
    "def model_analysis(training, validation, hist):\n",
    "    plt.figure()\n",
    "    plt.plot(hist.history[training])\n",
    "    plt.plot(hist.history[validation])\n",
    "    plt.xlabel('epouch')\n",
    "    plt.legend(['Training_'+training , 'Validation_'+training])\n",
    "    plt.show()"
   ]
  },
  {
   "cell_type": "code",
   "execution_count": 33,
   "id": "6f829eee",
   "metadata": {},
   "outputs": [
    {
     "data": {
      "image/png": "[encoded data removed]",
      "text/plain": [
       "<Figure size 640x480 with 1 Axes>"
      ]
     },
     "metadata": {},
     "output_type": "display_data"
    }
   ],
   "source": [
    "model_analysis('accuracy', 'val_accuracy', hist)\n",
    "clf.save(MODEL_PATH)"
   ]
  },
  {
   "cell_type": "code",
   "execution_count": 34,
   "id": "b185fdb5-8c03-4e57-af2c-97936a32a57a",
   "metadata": {},
   "outputs": [
    {
     "name": "stdout",
     "output_type": "stream",
     "text": [
      "38/38 [==============================] - 0s 3ms/step\n",
      "keras - Test Accuracy: 0.8158\n"
     ]
    },
    {
     "data": {
      "text/plain": [
       "0.8158333333333333"
      ]
     },
     "execution_count": 34,
     "metadata": {},
     "output_type": "execute_result"
    }
   ],
   "source": [
    "evaluate_model(clf, 'keras', X_test, y_test)"
   ]
  }
 ],
 "metadata": {
  "kernelspec": {
   "display_name": "Python 3 (ipykernel)",
   "language": "python",
   "name": "python3"
  },
  "language_info": {
   "codemirror_mode": {
    "name": "ipython",
    "version": 3
   },
   "file_extension": ".py",
   "mimetype": "text/x-python",
   "name": "python",
   "nbconvert_exporter": "python",
   "pygments_lexer": "ipython3",
   "version": "3.9.18"
  }
 },
 "nbformat": 4,
 "nbformat_minor": 5
}
