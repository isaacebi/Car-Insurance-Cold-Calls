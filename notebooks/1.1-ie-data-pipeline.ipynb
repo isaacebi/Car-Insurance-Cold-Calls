{
 "cells": [
  {
   "cell_type": "code",
   "execution_count": 1,
   "id": "5a4f79fe-4742-4c07-b91e-4e98641d543c",
   "metadata": {},
   "outputs": [],
   "source": [
    "import os\n",
    "import sys\n",
    "import pickle\n",
    "import numpy as np\n",
    "import pandas as pd\n",
    "\n",
    "from sklearn.impute import SimpleImputer\n",
    "from sklearn.pipeline import make_pipeline\n",
    "from sklearn.model_selection import train_test_split\n",
    "from sklearn.feature_selection import SelectFromModel\n",
    "from sklearn.compose import make_column_transformer, make_column_selector\n",
    "from sklearn.preprocessing import OrdinalEncoder, StandardScaler, LabelEncoder, OneHotEncoder\n",
    "\n",
    "from xgboost import XGBRFClassifier"
   ]
  },
  {
   "cell_type": "code",
   "execution_count": 2,
   "id": "e9a2fd01-c882-4aa7-958d-7863796093e4",
   "metadata": {},
   "outputs": [],
   "source": [
    "CURRENT_DIR = os.getcwd()\n",
    "PROJECT_DIR = os.path.dirname(CURRENT_DIR)\n",
    "MODELS_PATH = os.path.join(PROJECT_DIR, 'models')\n",
    "ENCODER_PATH = os.path.join(MODELS_PATH, 'encoders')\n",
    "PIPELINE_PATH = os.path.join(MODELS_PATH, 'pipelines')\n",
    "LOGS_PATH = os.path.join(MODELS_PATH, 'logs')\n",
    "TRAIN_DATA_PATH = os.path.join(PROJECT_DIR, \n",
    "                              'data', 'raw', 'carInsurance_train.csv')\n",
    "\n",
    "CATEG_PATH = os.path.join(PROJECT_DIR, 'references', 'categorical_columns.txt')\n",
    "CONTI_PATH = os.path.join(PROJECT_DIR, 'references', 'continous_columns.txt')\n",
    "\n",
    "PIPELINE_NAME = 'data-pipeline-v1.0'"
   ]
  },
  {
   "cell_type": "code",
   "execution_count": 3,
   "id": "ecdc9f2c-2bfe-43fc-88f5-21bd37e2d844",
   "metadata": {},
   "outputs": [],
   "source": [
    "# adding system path\n",
    "sys.path.insert(0, PROJECT_DIR)"
   ]
  },
  {
   "cell_type": "code",
   "execution_count": 4,
   "id": "97945b88-9cf5-4710-86f3-5a202b956460",
   "metadata": {},
   "outputs": [],
   "source": [
    "# %% Helper Function\n",
    "def get_content(txt_file):\n",
    "    contents = []\n",
    "    with open(txt_file) as file:\n",
    "        for line in file:\n",
    "            contents.append(line.strip())\n",
    "            \n",
    "    return contents\n",
    "\n",
    "# Function to save a trained model\n",
    "def save_model(model, model_name, folderPath):\n",
    "    filename = os.path.join(folderPath, f\"{model_name}.pkl\")\n",
    "    with open(filename, 'wb') as file:\n",
    "        pickle.dump(model, file)"
   ]
  },
  {
   "cell_type": "code",
   "execution_count": 5,
   "id": "21f3e606-1098-400b-8ecf-3da0a2bd98fe",
   "metadata": {},
   "outputs": [],
   "source": [
    "# import internal function\n",
    "from src.data import process_pipeline"
   ]
  },
  {
   "cell_type": "code",
   "execution_count": 6,
   "id": "72d491fb-a29a-4081-82ab-f3668f01614e",
   "metadata": {},
   "outputs": [
    {
     "data": {
      "text/html": [
       "<div>\n",
       "<style scoped>\n",
       "    .dataframe tbody tr th:only-of-type {\n",
       "        vertical-align: middle;\n",
       "    }\n",
       "\n",
       "    .dataframe tbody tr th {\n",
       "        vertical-align: top;\n",
       "    }\n",
       "\n",
       "    .dataframe thead th {\n",
       "        text-align: right;\n",
       "    }\n",
       "</style>\n",
       "<table border=\"1\" class=\"dataframe\">\n",
       "  <thead>\n",
       "    <tr style=\"text-align: right;\">\n",
       "      <th></th>\n",
       "      <th>Id</th>\n",
       "      <th>Age</th>\n",
       "      <th>Job</th>\n",
       "      <th>Marital</th>\n",
       "      <th>Education</th>\n",
       "      <th>Default</th>\n",
       "      <th>Balance</th>\n",
       "      <th>HHInsurance</th>\n",
       "      <th>CarLoan</th>\n",
       "      <th>Communication</th>\n",
       "      <th>...</th>\n",
       "      <th>Outcome</th>\n",
       "      <th>CallStart</th>\n",
       "      <th>CallEnd</th>\n",
       "      <th>CarInsurance</th>\n",
       "      <th>HasCommuncation</th>\n",
       "      <th>SinLastContactMonth</th>\n",
       "      <th>CosLastContactMonth</th>\n",
       "      <th>CallDuration</th>\n",
       "      <th>CallCategory</th>\n",
       "      <th>Outcome_Simplify</th>\n",
       "    </tr>\n",
       "  </thead>\n",
       "  <tbody>\n",
       "    <tr>\n",
       "      <th>0</th>\n",
       "      <td>1</td>\n",
       "      <td>32</td>\n",
       "      <td>management</td>\n",
       "      <td>single</td>\n",
       "      <td>tertiary</td>\n",
       "      <td>0</td>\n",
       "      <td>1218</td>\n",
       "      <td>1</td>\n",
       "      <td>0</td>\n",
       "      <td>telephone</td>\n",
       "      <td>...</td>\n",
       "      <td>failure</td>\n",
       "      <td>49520</td>\n",
       "      <td>49590</td>\n",
       "      <td>0</td>\n",
       "      <td>1</td>\n",
       "      <td>5.000000e-01</td>\n",
       "      <td>0.866025</td>\n",
       "      <td>70.0</td>\n",
       "      <td>Afternoon</td>\n",
       "      <td>0</td>\n",
       "    </tr>\n",
       "    <tr>\n",
       "      <th>1</th>\n",
       "      <td>2</td>\n",
       "      <td>32</td>\n",
       "      <td>blue-collar</td>\n",
       "      <td>married</td>\n",
       "      <td>primary</td>\n",
       "      <td>0</td>\n",
       "      <td>1156</td>\n",
       "      <td>1</td>\n",
       "      <td>0</td>\n",
       "      <td>No Communication</td>\n",
       "      <td>...</td>\n",
       "      <td>failure</td>\n",
       "      <td>53343</td>\n",
       "      <td>53528</td>\n",
       "      <td>0</td>\n",
       "      <td>0</td>\n",
       "      <td>5.000000e-01</td>\n",
       "      <td>-0.866025</td>\n",
       "      <td>185.0</td>\n",
       "      <td>Afternoon</td>\n",
       "      <td>0</td>\n",
       "    </tr>\n",
       "    <tr>\n",
       "      <th>2</th>\n",
       "      <td>3</td>\n",
       "      <td>29</td>\n",
       "      <td>management</td>\n",
       "      <td>single</td>\n",
       "      <td>tertiary</td>\n",
       "      <td>0</td>\n",
       "      <td>637</td>\n",
       "      <td>1</td>\n",
       "      <td>0</td>\n",
       "      <td>cellular</td>\n",
       "      <td>...</td>\n",
       "      <td>failure</td>\n",
       "      <td>59424</td>\n",
       "      <td>59764</td>\n",
       "      <td>1</td>\n",
       "      <td>1</td>\n",
       "      <td>1.224647e-16</td>\n",
       "      <td>-1.000000</td>\n",
       "      <td>340.0</td>\n",
       "      <td>Afternoon</td>\n",
       "      <td>0</td>\n",
       "    </tr>\n",
       "    <tr>\n",
       "      <th>3</th>\n",
       "      <td>4</td>\n",
       "      <td>25</td>\n",
       "      <td>student</td>\n",
       "      <td>single</td>\n",
       "      <td>primary</td>\n",
       "      <td>0</td>\n",
       "      <td>373</td>\n",
       "      <td>1</td>\n",
       "      <td>0</td>\n",
       "      <td>cellular</td>\n",
       "      <td>...</td>\n",
       "      <td>failure</td>\n",
       "      <td>43603</td>\n",
       "      <td>44422</td>\n",
       "      <td>1</td>\n",
       "      <td>1</td>\n",
       "      <td>5.000000e-01</td>\n",
       "      <td>-0.866025</td>\n",
       "      <td>819.0</td>\n",
       "      <td>Afternoon</td>\n",
       "      <td>0</td>\n",
       "    </tr>\n",
       "    <tr>\n",
       "      <th>4</th>\n",
       "      <td>5</td>\n",
       "      <td>30</td>\n",
       "      <td>management</td>\n",
       "      <td>married</td>\n",
       "      <td>tertiary</td>\n",
       "      <td>0</td>\n",
       "      <td>2694</td>\n",
       "      <td>0</td>\n",
       "      <td>0</td>\n",
       "      <td>cellular</td>\n",
       "      <td>...</td>\n",
       "      <td>failure</td>\n",
       "      <td>52544</td>\n",
       "      <td>52736</td>\n",
       "      <td>0</td>\n",
       "      <td>1</td>\n",
       "      <td>1.224647e-16</td>\n",
       "      <td>-1.000000</td>\n",
       "      <td>192.0</td>\n",
       "      <td>Afternoon</td>\n",
       "      <td>0</td>\n",
       "    </tr>\n",
       "  </tbody>\n",
       "</table>\n",
       "<p>5 rows × 25 columns</p>\n",
       "</div>"
      ],
      "text/plain": [
       "   Id  Age          Job  Marital Education  Default  Balance  HHInsurance  \\\n",
       "0   1   32   management   single  tertiary        0     1218            1   \n",
       "1   2   32  blue-collar  married   primary        0     1156            1   \n",
       "2   3   29   management   single  tertiary        0      637            1   \n",
       "3   4   25      student   single   primary        0      373            1   \n",
       "4   5   30   management  married  tertiary        0     2694            0   \n",
       "\n",
       "   CarLoan     Communication  ...  Outcome  CallStart  CallEnd  CarInsurance  \\\n",
       "0        0         telephone  ...  failure      49520    49590             0   \n",
       "1        0  No Communication  ...  failure      53343    53528             0   \n",
       "2        0          cellular  ...  failure      59424    59764             1   \n",
       "3        0          cellular  ...  failure      43603    44422             1   \n",
       "4        0          cellular  ...  failure      52544    52736             0   \n",
       "\n",
       "   HasCommuncation SinLastContactMonth  CosLastContactMonth  CallDuration  \\\n",
       "0                1        5.000000e-01             0.866025          70.0   \n",
       "1                0        5.000000e-01            -0.866025         185.0   \n",
       "2                1        1.224647e-16            -1.000000         340.0   \n",
       "3                1        5.000000e-01            -0.866025         819.0   \n",
       "4                1        1.224647e-16            -1.000000         192.0   \n",
       "\n",
       "   CallCategory  Outcome_Simplify  \n",
       "0     Afternoon                 0  \n",
       "1     Afternoon                 0  \n",
       "2     Afternoon                 0  \n",
       "3     Afternoon                 0  \n",
       "4     Afternoon                 0  \n",
       "\n",
       "[5 rows x 25 columns]"
      ]
     },
     "execution_count": 6,
     "metadata": {},
     "output_type": "execute_result"
    }
   ],
   "source": [
    "df = pd.read_csv(TRAIN_DATA_PATH)\n",
    "df = process_pipeline.process_data(df)\n",
    "df.head()"
   ]
  },
  {
   "cell_type": "code",
   "execution_count": 7,
   "id": "0089caef-ab91-43a7-8eee-bfe4721c481e",
   "metadata": {},
   "outputs": [
    {
     "name": "stdout",
     "output_type": "stream",
     "text": [
      "<class 'pandas.core.frame.DataFrame'>\n",
      "RangeIndex: 4000 entries, 0 to 3999\n",
      "Data columns (total 25 columns):\n",
      " #   Column               Non-Null Count  Dtype   \n",
      "---  ------               --------------  -----   \n",
      " 0   Id                   4000 non-null   int64   \n",
      " 1   Age                  4000 non-null   int64   \n",
      " 2   Job                  4000 non-null   category\n",
      " 3   Marital              4000 non-null   category\n",
      " 4   Education            4000 non-null   category\n",
      " 5   Default              4000 non-null   int64   \n",
      " 6   Balance              4000 non-null   int64   \n",
      " 7   HHInsurance          4000 non-null   int64   \n",
      " 8   CarLoan              4000 non-null   int64   \n",
      " 9   Communication        4000 non-null   category\n",
      " 10  LastContactDay       4000 non-null   int64   \n",
      " 11  LastContactMonth     4000 non-null   int64   \n",
      " 12  NoOfContacts         4000 non-null   int64   \n",
      " 13  DaysPassed           4000 non-null   int64   \n",
      " 14  PrevAttempts         4000 non-null   int64   \n",
      " 15  Outcome              4000 non-null   category\n",
      " 16  CallStart            4000 non-null   int64   \n",
      " 17  CallEnd              4000 non-null   int64   \n",
      " 18  CarInsurance         4000 non-null   int64   \n",
      " 19  HasCommuncation      4000 non-null   int64   \n",
      " 20  SinLastContactMonth  4000 non-null   float64 \n",
      " 21  CosLastContactMonth  4000 non-null   float64 \n",
      " 22  CallDuration         4000 non-null   float64 \n",
      " 23  CallCategory         4000 non-null   category\n",
      " 24  Outcome_Simplify     4000 non-null   int64   \n",
      "dtypes: category(6), float64(3), int64(16)\n",
      "memory usage: 618.4 KB\n"
     ]
    }
   ],
   "source": [
    "df.info()"
   ]
  },
  {
   "cell_type": "code",
   "execution_count": 8,
   "id": "0a3734e1",
   "metadata": {},
   "outputs": [],
   "source": [
    "X = df.drop(columns=['CarInsurance'])\n",
    "y = df['CarInsurance']\n",
    "\n",
    "X_train, X_test, y_train, y_test = train_test_split(X, y)"
   ]
  },
  {
   "cell_type": "code",
   "execution_count": 9,
   "id": "219a2c2c",
   "metadata": {},
   "outputs": [
    {
     "name": "stderr",
     "output_type": "stream",
     "text": [
      "c:\\Users\\isaac\\anaconda3\\envs\\ds_project\\lib\\site-packages\\xgboost\\data.py:312: FutureWarning: is_sparse is deprecated and will be removed in a future version. Check `isinstance(dtype, pd.SparseDtype)` instead.\n",
      "  if is_sparse(dtype):\n",
      "c:\\Users\\isaac\\anaconda3\\envs\\ds_project\\lib\\site-packages\\xgboost\\data.py:314: FutureWarning: is_categorical_dtype is deprecated and will be removed in a future version. Use isinstance(dtype, CategoricalDtype) instead\n",
      "  elif is_categorical_dtype(dtype) and enable_categorical:\n",
      "c:\\Users\\isaac\\anaconda3\\envs\\ds_project\\lib\\site-packages\\xgboost\\data.py:345: FutureWarning: is_categorical_dtype is deprecated and will be removed in a future version. Use isinstance(dtype, CategoricalDtype) instead\n",
      "  if is_categorical_dtype(dtype)\n",
      "c:\\Users\\isaac\\anaconda3\\envs\\ds_project\\lib\\site-packages\\xgboost\\data.py:336: FutureWarning: is_categorical_dtype is deprecated and will be removed in a future version. Use isinstance(dtype, CategoricalDtype) instead\n",
      "  return is_int or is_bool or is_float or is_categorical_dtype(dtype)\n",
      "c:\\Users\\isaac\\anaconda3\\envs\\ds_project\\lib\\site-packages\\xgboost\\data.py:440: FutureWarning: is_sparse is deprecated and will be removed in a future version. Check `isinstance(dtype, pd.SparseDtype)` instead.\n",
      "  if is_sparse(data):\n"
     ]
    }
   ],
   "source": [
    "# make transformer\n",
    "ct = make_column_transformer(\n",
    "    (SimpleImputer(missing_values=np.nan, strategy='mean'), make_column_selector(dtype_include=np.number)),\n",
    "    (OrdinalEncoder(), make_column_selector(dtype_include='category'))\n",
    ")\n",
    "\n",
    "pipe_ct = make_pipeline(\n",
    "    ct,\n",
    "    StandardScaler()\n",
    ")\n",
    "\n",
    "# --- Data Pipeline Checkpoint --- #\n",
    "save_model(pipe_ct.fit(X_train), PIPELINE_NAME, PIPELINE_PATH)\n",
    "\n",
    "# create the data\n",
    "columns = X.columns.to_list()\n",
    "X_train = ct.fit_transform(X_train)\n",
    "X_train = pd.DataFrame(X_train, columns=columns)\n",
    "\n",
    "clf = XGBRFClassifier().fit(X_train, y_train)"
   ]
  },
  {
   "cell_type": "code",
   "execution_count": 10,
   "id": "9707dc76",
   "metadata": {},
   "outputs": [
    {
     "name": "stderr",
     "output_type": "stream",
     "text": [
      "c:\\Users\\isaac\\anaconda3\\envs\\ds_project\\lib\\site-packages\\sklearn\\base.py:458: UserWarning: X has feature names, but SelectFromModel was fitted without feature names\n",
      "  warnings.warn(\n"
     ]
    },
    {
     "data": {
      "text/plain": [
       "array([[  0.,   1., 716.,   0.,   1.,   1.],\n",
       "       [  1.,   1., 220.,   0.,   1.,   0.],\n",
       "       [  1.,   1., 194.,   0.,   1.,   0.],\n",
       "       ...,\n",
       "       [  0.,   1.,  40.,   0.,   1.,   0.],\n",
       "       [  1.,   1.,  77.,   0.,   1.,   0.],\n",
       "       [  0.,   1., 275.,   0.,   1.,   0.]])"
      ]
     },
     "execution_count": 10,
     "metadata": {},
     "output_type": "execute_result"
    }
   ],
   "source": [
    "selector = SelectFromModel(clf, prefit=True)\n",
    "selector.transform(X_train)"
   ]
  },
  {
   "cell_type": "code",
   "execution_count": 11,
   "id": "a24cec22",
   "metadata": {},
   "outputs": [
    {
     "data": {
      "text/plain": [
       "array(['Education', 'DaysPassed', 'CallStart', 'CallEnd', 'CallDuration',\n",
       "       'CallCategory'], dtype='<U19')"
      ]
     },
     "execution_count": 11,
     "metadata": {},
     "output_type": "execute_result"
    }
   ],
   "source": [
    "feature_names = np.array(X.columns.to_list())\n",
    "feature_names[selector.get_support()]"
   ]
  },
  {
   "cell_type": "code",
   "execution_count": null,
   "id": "5c8ac1de",
   "metadata": {},
   "outputs": [],
   "source": []
  }
 ],
 "metadata": {
  "kernelspec": {
   "display_name": "Python 3 (ipykernel)",
   "language": "python",
   "name": "python3"
  },
  "language_info": {
   "codemirror_mode": {
    "name": "ipython",
    "version": 3
   },
   "file_extension": ".py",
   "mimetype": "text/x-python",
   "name": "python",
   "nbconvert_exporter": "python",
   "pygments_lexer": "ipython3",
   "version": "3.9.18"
  }
 },
 "nbformat": 4,
 "nbformat_minor": 5
}
