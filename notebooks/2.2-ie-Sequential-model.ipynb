{
 "cells": [
  {
   "cell_type": "code",
   "execution_count": 92,
   "id": "f77c5f7a",
   "metadata": {},
   "outputs": [],
   "source": [
    "# Libraries\n",
    "import os\n",
    "import sys\n",
    "import pickle\n",
    "import datetime\n",
    "import numpy as np\n",
    "import pandas as pd\n",
    "import seaborn as sns\n",
    "import matplotlib.pyplot as plt\n",
    "\n",
    "from sklearn.metrics import accuracy_score\n",
    "from sklearn.pipeline import make_pipeline\n",
    "from sklearn.compose import ColumnTransformer\n",
    "from sklearn.model_selection import cross_val_score\n",
    "from sklearn.preprocessing import StandardScaler, OrdinalEncoder\n",
    "from sklearn.model_selection import train_test_split, GridSearchCV\n",
    "from sklearn.feature_selection import SelectPercentile, f_classif, chi2\n",
    "\n",
    "import tensorflow as tf\n",
    "from tensorflow.keras import Input\n",
    "from tensorflow.keras.models import Sequential\n",
    "from tensorflow.keras.callbacks import EarlyStopping, TensorBoard\n",
    "from tensorflow.keras.wrappers.scikit_learn import KerasClassifier\n",
    "from tensorflow.keras.layers import Dense, Dropout, BatchNormalization"
   ]
  },
  {
   "cell_type": "code",
   "execution_count": 93,
   "id": "8d56aebb",
   "metadata": {},
   "outputs": [],
   "source": [
    "CURRENT_DIR = os.getcwd()\n",
    "PROJECT_DIR = os.path.dirname(CURRENT_DIR)\n",
    "MODELS_PATH = os.path.join(PROJECT_DIR, 'models')\n",
    "ENCODER_PATH = os.path.join(MODELS_PATH, 'encoders')\n",
    "LOGS_PATH = os.path.join(MODELS_PATH, 'logs')\n",
    "LOG_CURRENT = os.path.join(LOGS_PATH, datetime.datetime.now().strftime(\"%Y%m%d-%H%M%S\"))\n",
    "TEST_DATA_PATH = os.path.join(PROJECT_DIR, \n",
    "                              'data', 'raw', 'carInsurance_train.csv')\n",
    "\n",
    "CATEG_PATH = os.path.join(PROJECT_DIR, 'references', 'categorical_columns.txt')\n",
    "CONTI_PATH = os.path.join(PROJECT_DIR, 'references', 'continous_columns.txt')\n",
    "\n",
    "PROJECT_NAME = '2.1-ie-Linear-SVC-model'\n",
    "MODEL_NAME = 'LinearSVC-v1.0'"
   ]
  },
  {
   "cell_type": "code",
   "execution_count": 94,
   "id": "74a14e88",
   "metadata": {},
   "outputs": [],
   "source": [
    "# adding system path\n",
    "sys.path.insert(0, PROJECT_DIR)"
   ]
  },
  {
   "cell_type": "code",
   "execution_count": 95,
   "id": "68e907bc",
   "metadata": {},
   "outputs": [],
   "source": [
    "# import internal function\n",
    "from src.data import process_pipeline, encoder_pipeline, feature_selection_pipeline"
   ]
  },
  {
   "cell_type": "code",
   "execution_count": 109,
   "id": "e75bad6a",
   "metadata": {},
   "outputs": [],
   "source": [
    "# %% Helper Function\n",
    "def get_content(txt_file):\n",
    "    contents = []\n",
    "    with open(txt_file) as file:\n",
    "        for line in file:\n",
    "            contents.append(line.strip())\n",
    "            \n",
    "    return contents\n",
    "\n",
    "# Function to save a trained model\n",
    "def save_model(model, model_name, folderPath):\n",
    "    filename = os.path.join(folderPath, f\"{model_name}_model.pkl\")\n",
    "    with open(filename, 'wb') as file:\n",
    "        pickle.dump(model, file)\n",
    "\n",
    "# Function to load a saved model\n",
    "def load_model(model_name):\n",
    "    filename = f\"{model_name}_model.pkl\"\n",
    "    if os.path.exists(filename):\n",
    "        with open(filename, 'rb') as file:\n",
    "            return pickle.load(file)\n",
    "    else:\n",
    "        return None\n",
    "\n",
    "# Function to evaluate a model\n",
    "def evaluate_model(model, model_name, X_test, y_test):\n",
    "    y_pred = model.predict(X_test)\n",
    "\n",
    "    # DL model return float type\n",
    "    if y_pred.dtype != 'int':\n",
    "        y_pred = y_pred.astype('int')\n",
    "        \n",
    "    accuracy = accuracy_score(y_test, y_pred)\n",
    "    print(f\"{model_name} - Test Accuracy: {accuracy:.4f}\")\n",
    "    return accuracy"
   ]
  },
  {
   "cell_type": "code",
   "execution_count": 97,
   "id": "557da9fb",
   "metadata": {
    "scrolled": true
   },
   "outputs": [
    {
     "data": {
      "text/html": [
       "<div>\n",
       "<style scoped>\n",
       "    .dataframe tbody tr th:only-of-type {\n",
       "        vertical-align: middle;\n",
       "    }\n",
       "\n",
       "    .dataframe tbody tr th {\n",
       "        vertical-align: top;\n",
       "    }\n",
       "\n",
       "    .dataframe thead th {\n",
       "        text-align: right;\n",
       "    }\n",
       "</style>\n",
       "<table border=\"1\" class=\"dataframe\">\n",
       "  <thead>\n",
       "    <tr style=\"text-align: right;\">\n",
       "      <th></th>\n",
       "      <th>Id</th>\n",
       "      <th>Age</th>\n",
       "      <th>Job</th>\n",
       "      <th>Marital</th>\n",
       "      <th>Education</th>\n",
       "      <th>Default</th>\n",
       "      <th>Balance</th>\n",
       "      <th>HHInsurance</th>\n",
       "      <th>CarLoan</th>\n",
       "      <th>Communication</th>\n",
       "      <th>LastContactDay</th>\n",
       "      <th>LastContactMonth</th>\n",
       "      <th>NoOfContacts</th>\n",
       "      <th>DaysPassed</th>\n",
       "      <th>PrevAttempts</th>\n",
       "      <th>Outcome</th>\n",
       "      <th>CallStart</th>\n",
       "      <th>CallEnd</th>\n",
       "      <th>CarInsurance</th>\n",
       "      <th>CallDuration</th>\n",
       "    </tr>\n",
       "  </thead>\n",
       "  <tbody>\n",
       "    <tr>\n",
       "      <th>0</th>\n",
       "      <td>1</td>\n",
       "      <td>32</td>\n",
       "      <td>management</td>\n",
       "      <td>single</td>\n",
       "      <td>tertiary</td>\n",
       "      <td>0</td>\n",
       "      <td>1218</td>\n",
       "      <td>1</td>\n",
       "      <td>0</td>\n",
       "      <td>1</td>\n",
       "      <td>28</td>\n",
       "      <td>jan</td>\n",
       "      <td>2</td>\n",
       "      <td>-1</td>\n",
       "      <td>0</td>\n",
       "      <td>0</td>\n",
       "      <td>1900-01-01 13:45:20</td>\n",
       "      <td>1900-01-01 13:46:30</td>\n",
       "      <td>0</td>\n",
       "      <td>70.0</td>\n",
       "    </tr>\n",
       "    <tr>\n",
       "      <th>1</th>\n",
       "      <td>2</td>\n",
       "      <td>32</td>\n",
       "      <td>blue-collar</td>\n",
       "      <td>married</td>\n",
       "      <td>primary</td>\n",
       "      <td>0</td>\n",
       "      <td>1156</td>\n",
       "      <td>1</td>\n",
       "      <td>0</td>\n",
       "      <td>0</td>\n",
       "      <td>26</td>\n",
       "      <td>may</td>\n",
       "      <td>5</td>\n",
       "      <td>-1</td>\n",
       "      <td>0</td>\n",
       "      <td>0</td>\n",
       "      <td>1900-01-01 14:49:03</td>\n",
       "      <td>1900-01-01 14:52:08</td>\n",
       "      <td>0</td>\n",
       "      <td>185.0</td>\n",
       "    </tr>\n",
       "    <tr>\n",
       "      <th>2</th>\n",
       "      <td>3</td>\n",
       "      <td>29</td>\n",
       "      <td>management</td>\n",
       "      <td>single</td>\n",
       "      <td>tertiary</td>\n",
       "      <td>0</td>\n",
       "      <td>637</td>\n",
       "      <td>1</td>\n",
       "      <td>0</td>\n",
       "      <td>1</td>\n",
       "      <td>3</td>\n",
       "      <td>jun</td>\n",
       "      <td>1</td>\n",
       "      <td>119</td>\n",
       "      <td>1</td>\n",
       "      <td>0</td>\n",
       "      <td>1900-01-01 16:30:24</td>\n",
       "      <td>1900-01-01 16:36:04</td>\n",
       "      <td>1</td>\n",
       "      <td>340.0</td>\n",
       "    </tr>\n",
       "    <tr>\n",
       "      <th>3</th>\n",
       "      <td>4</td>\n",
       "      <td>25</td>\n",
       "      <td>student</td>\n",
       "      <td>single</td>\n",
       "      <td>primary</td>\n",
       "      <td>0</td>\n",
       "      <td>373</td>\n",
       "      <td>1</td>\n",
       "      <td>0</td>\n",
       "      <td>1</td>\n",
       "      <td>11</td>\n",
       "      <td>may</td>\n",
       "      <td>2</td>\n",
       "      <td>-1</td>\n",
       "      <td>0</td>\n",
       "      <td>0</td>\n",
       "      <td>1900-01-01 12:06:43</td>\n",
       "      <td>1900-01-01 12:20:22</td>\n",
       "      <td>1</td>\n",
       "      <td>819.0</td>\n",
       "    </tr>\n",
       "    <tr>\n",
       "      <th>4</th>\n",
       "      <td>5</td>\n",
       "      <td>30</td>\n",
       "      <td>management</td>\n",
       "      <td>married</td>\n",
       "      <td>tertiary</td>\n",
       "      <td>0</td>\n",
       "      <td>2694</td>\n",
       "      <td>0</td>\n",
       "      <td>0</td>\n",
       "      <td>1</td>\n",
       "      <td>3</td>\n",
       "      <td>jun</td>\n",
       "      <td>1</td>\n",
       "      <td>-1</td>\n",
       "      <td>0</td>\n",
       "      <td>0</td>\n",
       "      <td>1900-01-01 14:35:44</td>\n",
       "      <td>1900-01-01 14:38:56</td>\n",
       "      <td>0</td>\n",
       "      <td>192.0</td>\n",
       "    </tr>\n",
       "  </tbody>\n",
       "</table>\n",
       "</div>"
      ],
      "text/plain": [
       "   Id  Age          Job  Marital Education  Default  Balance  HHInsurance  \\\n",
       "0   1   32   management   single  tertiary        0     1218            1   \n",
       "1   2   32  blue-collar  married   primary        0     1156            1   \n",
       "2   3   29   management   single  tertiary        0      637            1   \n",
       "3   4   25      student   single   primary        0      373            1   \n",
       "4   5   30   management  married  tertiary        0     2694            0   \n",
       "\n",
       "   CarLoan  Communication  LastContactDay LastContactMonth  NoOfContacts  \\\n",
       "0        0              1              28              jan             2   \n",
       "1        0              0              26              may             5   \n",
       "2        0              1               3              jun             1   \n",
       "3        0              1              11              may             2   \n",
       "4        0              1               3              jun             1   \n",
       "\n",
       "   DaysPassed  PrevAttempts  Outcome           CallStart             CallEnd  \\\n",
       "0          -1             0        0 1900-01-01 13:45:20 1900-01-01 13:46:30   \n",
       "1          -1             0        0 1900-01-01 14:49:03 1900-01-01 14:52:08   \n",
       "2         119             1        0 1900-01-01 16:30:24 1900-01-01 16:36:04   \n",
       "3          -1             0        0 1900-01-01 12:06:43 1900-01-01 12:20:22   \n",
       "4          -1             0        0 1900-01-01 14:35:44 1900-01-01 14:38:56   \n",
       "\n",
       "   CarInsurance  CallDuration  \n",
       "0             0          70.0  \n",
       "1             0         185.0  \n",
       "2             1         340.0  \n",
       "3             1         819.0  \n",
       "4             0         192.0  "
      ]
     },
     "execution_count": 97,
     "metadata": {},
     "output_type": "execute_result"
    }
   ],
   "source": [
    "df = pd.read_csv(TEST_DATA_PATH)\n",
    "df = process_pipeline.process_data(df)\n",
    "df.head()"
   ]
  },
  {
   "cell_type": "code",
   "execution_count": 98,
   "id": "b822693a",
   "metadata": {},
   "outputs": [],
   "source": [
    "# Get list of categorical & continous variable\n",
    "categ = get_content(CATEG_PATH)\n",
    "conti = get_content(CONTI_PATH)"
   ]
  },
  {
   "cell_type": "code",
   "execution_count": 99,
   "id": "8afc4d66-7a73-4973-9fc3-27241de2d1fb",
   "metadata": {},
   "outputs": [
    {
     "data": {
      "text/plain": [
       "['Age',\n",
       " 'Job',\n",
       " 'Marital',\n",
       " 'Education',\n",
       " 'Default',\n",
       " 'HHInsurance',\n",
       " 'CarLoan',\n",
       " 'Communication',\n",
       " 'LastContactDay',\n",
       " 'LastContactMonth',\n",
       " 'NoOfContacts',\n",
       " 'PrevAttempts',\n",
       " 'Outcome']"
      ]
     },
     "execution_count": 99,
     "metadata": {},
     "output_type": "execute_result"
    }
   ],
   "source": [
    "# making sure there's no target\n",
    "categ"
   ]
  },
  {
   "cell_type": "code",
   "execution_count": 100,
   "id": "037816c9",
   "metadata": {},
   "outputs": [],
   "source": [
    "# label\n",
    "X = df.drop(columns=['CarInsurance'])\n",
    "\n",
    "#target\n",
    "y = df['CarInsurance']\n",
    "\n",
    "# Split the data\n",
    "X_train, X_test, y_train, y_test = train_test_split(X, y, test_size=0.2, random_state=0)"
   ]
  },
  {
   "cell_type": "code",
   "execution_count": 101,
   "id": "3ff5f8af",
   "metadata": {},
   "outputs": [],
   "source": [
    "from sklearn.preprocessing import FunctionTransformer\n",
    "\n",
    "# Function to select non-datetime columns\n",
    "def select_non_datetime(X):\n",
    "    return X.select_dtypes(exclude='datetime')\n",
    "\n",
    "def time_to_numeric(X):\n",
    "    for col in X:\n",
    "        if X[col].dtype != 'int':\n",
    "            X[col] = pd.to_numeric(X[col])\n",
    "    return X"
   ]
  },
  {
   "cell_type": "code",
   "execution_count": 102,
   "id": "2b76a206",
   "metadata": {},
   "outputs": [],
   "source": [
    "# Numeric feature processing\n",
    "numeric_transformer = make_pipeline(\n",
    "    FunctionTransformer(time_to_numeric, validate=False)\n",
    ")\n",
    "\n",
    "# Categorical feature processing\n",
    "ordinal_encoder = OrdinalEncoder(handle_unknown='use_encoded_value', unknown_value=-1)\n",
    "categorical_transformer = make_pipeline(ordinal_encoder)\n",
    "\n",
    "# combine pipeline\n",
    "preprocessor = ColumnTransformer(\n",
    "    transformers=[\n",
    "        (\"num\", numeric_transformer, conti),\n",
    "        (\"cat\", categorical_transformer, categ)\n",
    "    ]\n",
    ")"
   ]
  },
  {
   "cell_type": "code",
   "execution_count": 103,
   "id": "38ff9c46-a742-46ac-a1db-c5f985bd513c",
   "metadata": {},
   "outputs": [],
   "source": [
    "scaler_process = make_pipeline(preprocessor, StandardScaler())"
   ]
  },
  {
   "cell_type": "code",
   "execution_count": 104,
   "id": "286f6013-8fe8-49ee-9702-a83e98b88c4a",
   "metadata": {},
   "outputs": [],
   "source": [
    "x_train = scaler_process.fit_transform(X_train)\n",
    "x_test = scaler_process.transform(X_test)"
   ]
  },
  {
   "cell_type": "code",
   "execution_count": 105,
   "id": "f8a8d601",
   "metadata": {},
   "outputs": [],
   "source": [
    "# create a input and output shape\n",
    "input_shape = np.shape(x_train)[1:]\n",
    "model_output = 1 # len(np.unique(y_train, axis=0)) # alternative len(df.target.unique)"
   ]
  },
  {
   "cell_type": "code",
   "execution_count": 106,
   "id": "9ee5b502-0a42-495b-8b91-7cbb9d6fec89",
   "metadata": {},
   "outputs": [
    {
     "data": {
      "text/plain": [
       "(18,)"
      ]
     },
     "execution_count": 106,
     "metadata": {},
     "output_type": "execute_result"
    }
   ],
   "source": [
    "input_shape"
   ]
  },
  {
   "cell_type": "code",
   "execution_count": 107,
   "id": "3dbe0049-1b44-4c24-a371-cb5a035a2cf2",
   "metadata": {},
   "outputs": [
    {
     "name": "stdout",
     "output_type": "stream",
     "text": [
      "Epoch 1/10\n",
      "100/100 [==============================] - 2s 10ms/step - loss: 0.0000e+00 - accuracy: 0.7909 - val_loss: 0.0000e+00 - val_accuracy: 0.8050\n",
      "Epoch 2/10\n",
      "100/100 [==============================] - 1s 8ms/step - loss: 0.0000e+00 - accuracy: 0.8128 - val_loss: 0.0000e+00 - val_accuracy: 0.8037\n",
      "Epoch 3/10\n",
      "100/100 [==============================] - 1s 8ms/step - loss: 0.0000e+00 - accuracy: 0.8184 - val_loss: 0.0000e+00 - val_accuracy: 0.8150\n",
      "Epoch 4/10\n",
      "100/100 [==============================] - 1s 7ms/step - loss: 0.0000e+00 - accuracy: 0.8225 - val_loss: 0.0000e+00 - val_accuracy: 0.8138\n",
      "Epoch 5/10\n",
      "100/100 [==============================] - 1s 7ms/step - loss: 0.0000e+00 - accuracy: 0.8303 - val_loss: 0.0000e+00 - val_accuracy: 0.8163\n",
      "Epoch 6/10\n",
      "100/100 [==============================] - 1s 8ms/step - loss: 0.0000e+00 - accuracy: 0.8222 - val_loss: 0.0000e+00 - val_accuracy: 0.8163\n",
      "Epoch 7/10\n",
      "100/100 [==============================] - 1s 8ms/step - loss: 0.0000e+00 - accuracy: 0.8303 - val_loss: 0.0000e+00 - val_accuracy: 0.8138\n",
      "Epoch 8/10\n",
      "100/100 [==============================] - 1s 7ms/step - loss: 0.0000e+00 - accuracy: 0.8244 - val_loss: 0.0000e+00 - val_accuracy: 0.8138\n",
      "Epoch 9/10\n",
      "100/100 [==============================] - 1s 8ms/step - loss: 0.0000e+00 - accuracy: 0.8300 - val_loss: 0.0000e+00 - val_accuracy: 0.8150\n",
      "Epoch 10/10\n",
      "100/100 [==============================] - 1s 7ms/step - loss: 0.0000e+00 - accuracy: 0.8269 - val_loss: 0.0000e+00 - val_accuracy: 0.8163\n"
     ]
    },
    {
     "data": {
      "text/plain": [
       "<keras.callbacks.History at 0x17712870550>"
      ]
     },
     "execution_count": 107,
     "metadata": {},
     "output_type": "execute_result"
    }
   ],
   "source": [
    "model = Sequential()\n",
    "model.add(Input(shape=input_shape))\n",
    "\n",
    "model.add(Dense(2048, activation='relu'))\n",
    "model.add(BatchNormalization())\n",
    "model.add(Dropout(0.2))\n",
    "\n",
    "model.add(Dense(4096, activation='relu'))\n",
    "model.add(BatchNormalization())\n",
    "model.add(Dropout(0.2))\n",
    "\n",
    "model.add(Dense(model_output, activation='sigmoid'))\n",
    "model.compile(optimizer='adam', loss='categorical_crossentropy', metrics=['accuracy'])\n",
    "model.fit(\n",
    "    x_train, y_train,\n",
    "    epochs=10,\n",
    "    batch_size=32,\n",
    "    validation_data=(x_test, y_test)\n",
    ")"
   ]
  },
  {
   "cell_type": "code",
   "execution_count": 110,
   "id": "b52092cf-3379-41cc-b70c-3d9b5446cb51",
   "metadata": {},
   "outputs": [
    {
     "name": "stdout",
     "output_type": "stream",
     "text": [
      "25/25 [==============================] - 0s 7ms/step\n",
      "float32\n",
      "manual_keras - Test Accuracy: 0.8163\n"
     ]
    },
    {
     "data": {
      "text/plain": [
       "0.81625"
      ]
     },
     "execution_count": 110,
     "metadata": {},
     "output_type": "execute_result"
    }
   ],
   "source": [
    "evaluate_model(model, 'manual_keras', x_test, y_test)"
   ]
  },
  {
   "cell_type": "code",
   "execution_count": null,
   "id": "86b12fec-b1ba-44a8-8faf-a52a4041c8e3",
   "metadata": {},
   "outputs": [],
   "source": [
    "def create_model(input_shape, model_output):\n",
    "    model = Sequential()\n",
    "    # input layer\n",
    "    model.add(Input(shape=input_shape))\n",
    "\n",
    "    \n",
    "    # layer 1\n",
    "    model.add(Dense(2048, activation='relu'))\n",
    "    model.add(BatchNormalization())\n",
    "    model.add(Dropout(0.5))\n",
    "    # layer 2\n",
    "    model.add(Dense(4096, activation='relu'))\n",
    "    model.add(BatchNormalization())\n",
    "    model.add(Dropout(0.5))\n",
    "\n",
    "    # output\n",
    "    model.add(Dense(model_output, activation='sigmoid'))\n",
    "    model.compile(optimizer='adam', \n",
    "                  loss='binary_crossentropy', \n",
    "                  metrics=['accuracy'],\n",
    "                 )\n",
    "    return model"
   ]
  },
  {
   "cell_type": "code",
   "execution_count": null,
   "id": "d522697b-0356-499a-9965-4892e884b86f",
   "metadata": {},
   "outputs": [],
   "source": [
    "# call backs\n",
    "def callbacks(LOGS_PATH, patience):\n",
    "    tensorboard_callbacks = TensorBoard(log_dir=LOGS_PATH, histogram_freq=1)\n",
    "    early_callback = EarlyStopping(monitor='accuracy', patience=patience)\n",
    "    return [early_callback, tensorboard_callbacks]"
   ]
  },
  {
   "cell_type": "code",
   "execution_count": null,
   "id": "52378c1f-c08c-4a6b-b8ee-28ad1e50817a",
   "metadata": {},
   "outputs": [],
   "source": [
    "# callbacks\n",
    "early_callback, tensorboard_callbacks = callbacks(LOGS_PATH, patience=100)"
   ]
  },
  {
   "cell_type": "code",
   "execution_count": null,
   "id": "9b40ce75-4157-4e44-a80a-77d0cafec8a4",
   "metadata": {},
   "outputs": [],
   "source": [
    "clf = KerasClassifier(\n",
    "    build_fn=lambda : create_model(input_shape, model_output),\n",
    "    epochs=10,\n",
    "    batch_size=32,\n",
    "    callbacks=[early_callback, tensorboard_callbacks],\n",
    "    verbose=0\n",
    ")"
   ]
  },
  {
   "cell_type": "code",
   "execution_count": null,
   "id": "2d2237d1-6431-4dfe-9272-99dfb77b949c",
   "metadata": {},
   "outputs": [],
   "source": [
    "clf.build_fn().summary()"
   ]
  },
  {
   "cell_type": "code",
   "execution_count": null,
   "id": "ebf226be-422c-4abc-bce7-5cec4aa2eaf7",
   "metadata": {},
   "outputs": [],
   "source": [
    "pipeline = make_pipeline(\n",
    "    preprocessor,\n",
    "    StandardScaler(),\n",
    "    clf\n",
    ")"
   ]
  },
  {
   "cell_type": "code",
   "execution_count": null,
   "id": "ad3724ed-c9da-41cd-9ae7-2f686991a825",
   "metadata": {},
   "outputs": [],
   "source": [
    "# model training\n",
    "pipeline.fit(X_train, y_train)"
   ]
  },
  {
   "cell_type": "code",
   "execution_count": null,
   "id": "b185fdb5-8c03-4e57-af2c-97936a32a57a",
   "metadata": {},
   "outputs": [],
   "source": [
    "evaluate_model(pipeline, 'keras', X_test, y_test)"
   ]
  },
  {
   "cell_type": "code",
   "execution_count": null,
   "id": "65cd5e80-a3f3-4235-ac19-63d36b969015",
   "metadata": {},
   "outputs": [],
   "source": []
  }
 ],
 "metadata": {
  "kernelspec": {
   "display_name": "Python 3 (ipykernel)",
   "language": "python",
   "name": "python3"
  },
  "language_info": {
   "codemirror_mode": {
    "name": "ipython",
    "version": 3
   },
   "file_extension": ".py",
   "mimetype": "text/x-python",
   "name": "python",
   "nbconvert_exporter": "python",
   "pygments_lexer": "ipython3",
   "version": "3.9.18"
  }
 },
 "nbformat": 4,
 "nbformat_minor": 5
}
